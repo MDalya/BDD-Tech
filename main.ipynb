{
 "cells": [
  {
   "cell_type": "code",
   "execution_count": 73,
   "id": "0d39c517",
   "metadata": {},
   "outputs": [],
   "source": [
    "# Import necessary libraries\n",
    "import pandas as pd  # For data manipulation\n",
    "from sklearn.feature_extraction.text import TfidfVectorizer  # For converting text to numerical features using TF-IDF\n",
    "from sklearn.metrics.pairwise import linear_kernel  # For calculating cosine similarity between movie descriptions"
   ]
  },
  {
   "cell_type": "code",
   "execution_count": 74,
   "id": "4ce88f78",
   "metadata": {},
   "outputs": [],
   "source": [
    "# Load the datasets containing movies, user tags, and genome tags (tag metadata)\n",
    "movies = pd.read_csv(\"/Users/dalyameharzi/Library/CloudStorage/OneDrive-GroupeESAIP/ING3/S6_Erasmus/project_block2/block2_project/archive/movie.csv\")\n",
    "tags = pd.read_csv(\"/Users/dalyameharzi/Library/CloudStorage/OneDrive-GroupeESAIP/ING3/S6_Erasmus/project_block2/block2_project/archive/tag.csv\")"
   ]
  },
  {
   "cell_type": "code",
   "execution_count": 75,
   "id": "aef5a7b1",
   "metadata": {},
   "outputs": [],
   "source": [
    "# Group all user tags for each movie and join them into a single string per movie\n",
    "tags_grouped = tags.groupby(\"movieId\")[\"tag\"].apply(\n",
    "    lambda x: \" \".join(str(tag) for tag in x if pd.notnull(tag))\n",
    ").reset_index()"
   ]
  },
  {
   "cell_type": "code",
   "execution_count": 76,
   "id": "4ff35c83",
   "metadata": {},
   "outputs": [],
   "source": [
    "# Merge the grouped tags into the main movies dataframe, on movieId\n",
    "movies = movies.merge(tags_grouped, on=\"movieId\", how=\"left\")"
   ]
  },
  {
   "cell_type": "code",
   "execution_count": 77,
   "id": "32ba9c34",
   "metadata": {},
   "outputs": [],
   "source": [
    "# Fill any missing tags or genres with empty strings to avoid errors later\n",
    "movies[\"tag\"] = movies[\"tag\"].fillna(\"\")\n",
    "movies[\"genres\"] = movies[\"genres\"].fillna(\"\")"
   ]
  },
  {
   "cell_type": "code",
   "execution_count": 78,
   "id": "4b10a1ad",
   "metadata": {},
   "outputs": [],
   "source": [
    "# Create a new column that combines genres and tags into a single 'description' string\n",
    "movies[\"description\"] = movies[\"genres\"].str.replace(\"|\", \" \") + \" \" + movies[\"tag\"]"
   ]
  },
  {
   "cell_type": "code",
   "execution_count": 79,
   "id": "a2436026",
   "metadata": {},
   "outputs": [],
   "source": [
    "# Convert the movie descriptions into TF-IDF vectors, removing English stop words\n",
    "tfidf = TfidfVectorizer(stop_words=\"english\")\n",
    "tfidf_matrix = tfidf.fit_transform(movies[\"description\"])  # Matrix of shape (num_movies, num_words)"
   ]
  },
  {
   "cell_type": "code",
   "execution_count": 80,
   "id": "98a4c9de",
   "metadata": {},
   "outputs": [],
   "source": [
    "# Compute cosine similarity between all pairs of movie descriptions\n",
    "cosine_sim = linear_kernel(tfidf_matrix, tfidf_matrix)"
   ]
  },
  {
   "cell_type": "code",
   "execution_count": 81,
   "id": "77a381ed",
   "metadata": {},
   "outputs": [],
   "source": [
    "# Create a Pandas Series to map movie titles to their index positions in the dataframe\n",
    "indices = pd.Series(movies.index, index=movies[\"title\"]).drop_duplicates()"
   ]
  },
  {
   "cell_type": "code",
   "execution_count": 82,
   "id": "373fdc49",
   "metadata": {},
   "outputs": [],
   "source": [
    "# Define the recommendation function\n",
    "def recommend(title, n=10):\n",
    "    # Get the index of the movie with the given title\n",
    "    idx = indices.get(title)\n",
    "    if idx is None:\n",
    "        return f\"Film '{title}' not found in the dataset.\"\n",
    "\n",
    "    # Retrieve the similarity scores for the movie\n",
    "    sim_scores = list(enumerate(cosine_sim[idx]))\n",
    "\n",
    "    # Sort the movies based on similarity scores (excluding the movie itself)\n",
    "    sim_scores = sorted(sim_scores, key=lambda x: x[1], reverse=True)[1:n+1]\n",
    "\n",
    "    # Get the indices of the top n similar movies\n",
    "    movie_indices = [i[0] for i in sim_scores]\n",
    "\n",
    "    # Return the titles and genres of the recommended movies\n",
    "    return movies[[\"title\", \"genres\"]].iloc[movie_indices]"
   ]
  },
  {
   "cell_type": "code",
   "execution_count": 83,
   "id": "1a7b4c78",
   "metadata": {},
   "outputs": [],
   "source": [
    "# Example usage: Get recommendations based on a specific movie title\n",
    "film_recommande = recommend(\"Seven (a.k.a. Se7en) (1995)\", 5)"
   ]
  },
  {
   "cell_type": "code",
   "execution_count": 84,
   "id": "717f9fe5",
   "metadata": {},
   "outputs": [
    {
     "name": "stdout",
     "output_type": "stream",
     "text": [
      "You may like:\n",
      "                            title                         genres\n",
      "8274                   Saw (2004)        Horror|Mystery|Thriller\n",
      "49     Usual Suspects, The (1995)         Crime|Mystery|Thriller\n",
      "2873            Fight Club (1999)    Action|Crime|Drama|Thriller\n",
      "6224              Identity (2003)  Crime|Horror|Mystery|Thriller\n",
      "10928  Lucky Number Slevin (2006)            Crime|Drama|Mystery\n"
     ]
    }
   ],
   "source": [
    "# Display the recommendations\n",
    "print(\"You may like:\")\n",
    "print(film_recommande)"
   ]
  }
 ],
 "metadata": {
  "kernelspec": {
   "display_name": "base",
   "language": "python",
   "name": "python3"
  },
  "language_info": {
   "codemirror_mode": {
    "name": "ipython",
    "version": 3
   },
   "file_extension": ".py",
   "mimetype": "text/x-python",
   "name": "python",
   "nbconvert_exporter": "python",
   "pygments_lexer": "ipython3",
   "version": "3.12.7"
  }
 },
 "nbformat": 4,
 "nbformat_minor": 5
}
